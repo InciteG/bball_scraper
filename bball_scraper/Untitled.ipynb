{
 "cells": [
  {
   "cell_type": "code",
   "execution_count": 6,
   "id": "510fd901",
   "metadata": {},
   "outputs": [],
   "source": [
    "from var import url_tags"
   ]
  },
  {
   "cell_type": "code",
   "execution_count": 7,
   "id": "f0299d13",
   "metadata": {},
   "outputs": [],
   "source": [
    "from read_tables import get_tables"
   ]
  },
  {
   "cell_type": "code",
   "execution_count": 8,
   "id": "51790789",
   "metadata": {},
   "outputs": [],
   "source": [
    "import main"
   ]
  },
  {
   "cell_type": "code",
   "execution_count": null,
   "id": "336ff30e",
   "metadata": {},
   "outputs": [],
   "source": []
  }
 ],
 "metadata": {
  "kernelspec": {
   "display_name": "Python 3",
   "language": "python",
   "name": "python3"
  },
  "language_info": {
   "codemirror_mode": {
    "name": "ipython",
    "version": 3
   },
   "file_extension": ".py",
   "mimetype": "text/x-python",
   "name": "python",
   "nbconvert_exporter": "python",
   "pygments_lexer": "ipython3",
   "version": "3.8.8"
  }
 },
 "nbformat": 4,
 "nbformat_minor": 5
}
