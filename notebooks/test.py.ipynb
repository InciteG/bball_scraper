{
 "cells": [
  {
   "cell_type": "code",
   "execution_count": 1,
   "id": "02589794",
   "metadata": {},
   "outputs": [],
   "source": [
    "from bball_scraper.main import DataBuilder"
   ]
  },
  {
   "cell_type": "code",
   "execution_count": 4,
   "id": "0553bac2",
   "metadata": {},
   "outputs": [
    {
     "data": {
      "text/plain": [
       "['__class__',\n",
       " '__delattr__',\n",
       " '__dict__',\n",
       " '__dir__',\n",
       " '__doc__',\n",
       " '__eq__',\n",
       " '__format__',\n",
       " '__ge__',\n",
       " '__getattribute__',\n",
       " '__gt__',\n",
       " '__hash__',\n",
       " '__init__',\n",
       " '__init_subclass__',\n",
       " '__le__',\n",
       " '__lt__',\n",
       " '__module__',\n",
       " '__ne__',\n",
       " '__new__',\n",
       " '__reduce__',\n",
       " '__reduce_ex__',\n",
       " '__repr__',\n",
       " '__setattr__',\n",
       " '__sizeof__',\n",
       " '__str__',\n",
       " '__subclasshook__',\n",
       " '__weakref__',\n",
       " '_build_data__output',\n",
       " '_build_data__run_setup',\n",
       " 'boxscores',\n",
       " 'get_injury_data',\n",
       " 'get_page',\n",
       " 'injury',\n",
       " 'most_recent_team_roster',\n",
       " 'regular_season_schedule',\n",
       " 'resolve_missing_boxscores',\n",
       " 'setup_boxscores',\n",
       " 'setup_league_schedule',\n",
       " 'setup_team_rosters',\n",
       " 'team',\n",
       " 'team_roster',\n",
       " 'update_injuries']"
      ]
     },
     "execution_count": 4,
     "metadata": {},
     "output_type": "execute_result"
    }
   ],
   "source": [
    "dir(build_data)"
   ]
  },
  {
   "cell_type": "code",
   "execution_count": 5,
   "id": "b3f8b290",
   "metadata": {},
   "outputs": [
    {
     "data": {
      "text/plain": [
       "['__class__',\n",
       " '__delattr__',\n",
       " '__dict__',\n",
       " '__dir__',\n",
       " '__doc__',\n",
       " '__eq__',\n",
       " '__format__',\n",
       " '__ge__',\n",
       " '__getattribute__',\n",
       " '__gt__',\n",
       " '__hash__',\n",
       " '__init__',\n",
       " '__init_subclass__',\n",
       " '__le__',\n",
       " '__lt__',\n",
       " '__module__',\n",
       " '__ne__',\n",
       " '__new__',\n",
       " '__reduce__',\n",
       " '__reduce_ex__',\n",
       " '__repr__',\n",
       " '__setattr__',\n",
       " '__sizeof__',\n",
       " '__str__',\n",
       " '__subclasshook__',\n",
       " '__weakref__',\n",
       " '_base_url',\n",
       " '_build_data__output',\n",
       " '_build_data__run_setup',\n",
       " '_injury_suffix',\n",
       " 'boxscores',\n",
       " 'boxscores_filename',\n",
       " 'current_season',\n",
       " 'data_store_path',\n",
       " 'get_injury_data',\n",
       " 'get_page',\n",
       " 'injury',\n",
       " 'league_filename',\n",
       " 'most_recent_team_roster',\n",
       " 'output_format',\n",
       " 'regular_season_schedule',\n",
       " 'resolve_missing_boxscores',\n",
       " 'roster_filename',\n",
       " 'setup_boxscores',\n",
       " 'setup_league_schedule',\n",
       " 'setup_team_rosters',\n",
       " 'team',\n",
       " 'team_roster',\n",
       " 'update_injuries']"
      ]
     },
     "execution_count": 5,
     "metadata": {},
     "output_type": "execute_result"
    }
   ],
   "source": [
    "instance = build_data()\n",
    "dir(instance)"
   ]
  },
  {
   "cell_type": "code",
   "execution_count": null,
   "id": "ab9794ad",
   "metadata": {},
   "outputs": [],
   "source": []
  }
 ],
 "metadata": {
  "kernelspec": {
   "display_name": "bball_scraper_env",
   "language": "python",
   "name": "bball_scraper_env"
  },
  "language_info": {
   "codemirror_mode": {
    "name": "ipython",
    "version": 3
   },
   "file_extension": ".py",
   "mimetype": "text/x-python",
   "name": "python",
   "nbconvert_exporter": "python",
   "pygments_lexer": "ipython3",
   "version": "3.8.8"
  }
 },
 "nbformat": 4,
 "nbformat_minor": 5
}
