{
 "cells": [
  {
   "cell_type": "code",
   "execution_count": 11,
   "id": "79219273-4750-4192-9fad-3d2b897364a6",
   "metadata": {},
   "outputs": [],
   "source": [
    "import requests\n",
    "import time\n",
    "import re\n",
    "from bs4 import BeautifulSoup as bs\n",
    "import bs4\n",
    "from typing import Dict, Iterable, List, Optional, Set, Tuple, Union\n",
    "import pandas as pd\n",
    "from bball_scraper.main import get_response, parse_tables, pull_data\n",
    "from bball_scraper.var import injury_suffix,url_tags, core_seasons, team_codes\n",
    "from bball_scraper.checks import check_value"
   ]
  },
  {
   "cell_type": "code",
   "execution_count": 12,
   "id": "b64af7e0-3825-4dbf-a0e4-89529196296f",
   "metadata": {
    "tags": []
   },
   "outputs": [
    {
     "data": {
      "text/plain": [
       "<Logger __main__ (INFO)>"
      ]
     },
     "execution_count": 12,
     "metadata": {},
     "output_type": "execute_result"
    }
   ],
   "source": [
    "from bball_scraper.logging import get_logger\n",
    "log=get_logger(__name__)\n",
    "log"
   ]
  },
  {
   "cell_type": "markdown",
   "id": "8c0efc22-502e-4bed-bf8b-0f0f7ca3c1eb",
   "metadata": {},
   "source": [
    "## Test Case 1: Injury Page"
   ]
  },
  {
   "cell_type": "code",
   "execution_count": 2,
   "id": "789b5a04-1b88-46a0-9de3-f7cb1f750e3b",
   "metadata": {
    "tags": []
   },
   "outputs": [],
   "source": [
    "table_type='injuries'\n",
    "df = pull_data(table_type=table_type,suffix=injury_suffix)"
   ]
  },
  {
   "cell_type": "markdown",
   "id": "6bd07acd-4792-47b8-925b-970328403ae4",
   "metadata": {},
   "source": [
    "## Test Case 2: Team Page"
   ]
  },
  {
   "cell_type": "code",
   "execution_count": 4,
   "id": "f9399cb5-fabe-49c6-8b77-21f2878a76b3",
   "metadata": {
    "tags": []
   },
   "outputs": [],
   "source": [
    "# outer_table_list=[]\n",
    "# team_code = 'TOR'\n",
    "# table_type='roster'\n",
    "# url_type='team'\n",
    "# df_list = []\n",
    "\n",
    "# for season in core_seasons:\n",
    "#     response = get_response(url_type=url_type,team_code=team_code,season=season)\n",
    "#     soup = bs(response.content, 'html.parser')\n",
    "#     df= parse_tables(soup,table_type) \n",
    "#     df = add_info\n",
    "#     df['team_code']=team_code\n",
    "#     df['season']=season\n",
    "\n",
    "#     df_list.append(df)\n",
    "# df_outer = pd.concat(df_list)"
   ]
  },
  {
   "cell_type": "code",
   "execution_count": 3,
   "id": "31275b21-0901-4bbb-a27b-4b5e1a3cf027",
   "metadata": {
    "tags": []
   },
   "outputs": [
    {
     "data": {
      "text/html": [
       "<div>\n",
       "<style scoped>\n",
       "    .dataframe tbody tr th:only-of-type {\n",
       "        vertical-align: middle;\n",
       "    }\n",
       "\n",
       "    .dataframe tbody tr th {\n",
       "        vertical-align: top;\n",
       "    }\n",
       "\n",
       "    .dataframe thead th {\n",
       "        text-align: right;\n",
       "    }\n",
       "</style>\n",
       "<table border=\"1\" class=\"dataframe\">\n",
       "  <thead>\n",
       "    <tr style=\"text-align: right;\">\n",
       "      <th></th>\n",
       "      <th>player</th>\n",
       "      <th>pos</th>\n",
       "      <th>height</th>\n",
       "      <th>weight</th>\n",
       "      <th>birth_date</th>\n",
       "      <th>years_experience</th>\n",
       "      <th>player_url</th>\n",
       "      <th>player_code</th>\n",
       "      <th>team_code</th>\n",
       "      <th>season</th>\n",
       "    </tr>\n",
       "  </thead>\n",
       "  <tbody>\n",
       "    <tr>\n",
       "      <th>0</th>\n",
       "      <td>Markquis Nowell  (TW)</td>\n",
       "      <td>G</td>\n",
       "      <td>5-8</td>\n",
       "      <td>160</td>\n",
       "      <td>December 25, 1999</td>\n",
       "      <td>R</td>\n",
       "      <td>/players/n/nowelma01.html</td>\n",
       "      <td>nowelma01</td>\n",
       "      <td>TOR</td>\n",
       "      <td>2024</td>\n",
       "    </tr>\n",
       "    <tr>\n",
       "      <th>1</th>\n",
       "      <td>Garrett Temple</td>\n",
       "      <td>G</td>\n",
       "      <td>6-5</td>\n",
       "      <td>195</td>\n",
       "      <td>May 8, 1986</td>\n",
       "      <td>13</td>\n",
       "      <td>/players/t/templga01.html</td>\n",
       "      <td>templga01</td>\n",
       "      <td>TOR</td>\n",
       "      <td>2024</td>\n",
       "    </tr>\n",
       "    <tr>\n",
       "      <th>2</th>\n",
       "      <td>Mouhamadou Gueye</td>\n",
       "      <td>F</td>\n",
       "      <td>6-9</td>\n",
       "      <td>210</td>\n",
       "      <td>July 6, 1998</td>\n",
       "      <td>R</td>\n",
       "      <td>/players/g/gueyemo01.html</td>\n",
       "      <td>gueyemo01</td>\n",
       "      <td>TOR</td>\n",
       "      <td>2024</td>\n",
       "    </tr>\n",
       "    <tr>\n",
       "      <th>3</th>\n",
       "      <td>Jeff Dowtin</td>\n",
       "      <td>G</td>\n",
       "      <td>6-3</td>\n",
       "      <td>185</td>\n",
       "      <td>May 10, 1997</td>\n",
       "      <td>2</td>\n",
       "      <td>/players/d/dowtije01.html</td>\n",
       "      <td>dowtije01</td>\n",
       "      <td>TOR</td>\n",
       "      <td>2024</td>\n",
       "    </tr>\n",
       "    <tr>\n",
       "      <th>4</th>\n",
       "      <td>Javon Freeman-Liberty  (TW)</td>\n",
       "      <td>G</td>\n",
       "      <td>6-4</td>\n",
       "      <td>180</td>\n",
       "      <td>October 20, 1999</td>\n",
       "      <td>R</td>\n",
       "      <td>/players/f/freemja01.html</td>\n",
       "      <td>freemja01</td>\n",
       "      <td>TOR</td>\n",
       "      <td>2024</td>\n",
       "    </tr>\n",
       "  </tbody>\n",
       "</table>\n",
       "</div>"
      ],
      "text/plain": [
       "                        player pos height weight         birth_date  \\\n",
       "0        Markquis Nowell  (TW)   G    5-8    160  December 25, 1999   \n",
       "1               Garrett Temple   G    6-5    195        May 8, 1986   \n",
       "2             Mouhamadou Gueye   F    6-9    210       July 6, 1998   \n",
       "3                  Jeff Dowtin   G    6-3    185       May 10, 1997   \n",
       "4  Javon Freeman-Liberty  (TW)   G    6-4    180   October 20, 1999   \n",
       "\n",
       "  years_experience                 player_url player_code team_code season  \n",
       "0                R  /players/n/nowelma01.html   nowelma01       TOR   2024  \n",
       "1               13  /players/t/templga01.html   templga01       TOR   2024  \n",
       "2                R  /players/g/gueyemo01.html   gueyemo01       TOR   2024  \n",
       "3                2  /players/d/dowtije01.html   dowtije01       TOR   2024  \n",
       "4                R  /players/f/freemja01.html   freemja01       TOR   2024  "
      ]
     },
     "execution_count": 3,
     "metadata": {},
     "output_type": "execute_result"
    }
   ],
   "source": [
    "table_type='roster'\n",
    "team_code = 'TOR'\n",
    "season='2024'\n",
    "df = pull_data(table_type=table_type,team_code=team_code,season=season)\n",
    "df.head(5)"
   ]
  },
  {
   "cell_type": "markdown",
   "id": "2d38f1b4-b891-4b99-8c7e-ebe2fd23b6cd",
   "metadata": {},
   "source": [
    "## Test Case 3: Schedule Page"
   ]
  },
  {
   "cell_type": "code",
   "execution_count": 2,
   "id": "25391716-7080-450d-bb75-8196b4872f50",
   "metadata": {
    "tags": []
   },
   "outputs": [
    {
     "data": {
      "text/html": [
       "<div>\n",
       "<style scoped>\n",
       "    .dataframe tbody tr th:only-of-type {\n",
       "        vertical-align: middle;\n",
       "    }\n",
       "\n",
       "    .dataframe tbody tr th {\n",
       "        vertical-align: top;\n",
       "    }\n",
       "\n",
       "    .dataframe thead th {\n",
       "        text-align: right;\n",
       "    }\n",
       "</style>\n",
       "<table border=\"1\" class=\"dataframe\">\n",
       "  <thead>\n",
       "    <tr style=\"text-align: right;\">\n",
       "      <th></th>\n",
       "      <th>date_game</th>\n",
       "      <th>game_start_time</th>\n",
       "      <th>visitor_team_name</th>\n",
       "      <th>visitor_pts</th>\n",
       "      <th>home_team_name</th>\n",
       "      <th>home_pts</th>\n",
       "      <th>box_score_text</th>\n",
       "      <th>overtimes</th>\n",
       "      <th>attendance</th>\n",
       "      <th>arena_name</th>\n",
       "      <th>boxscore_url</th>\n",
       "      <th>game_id</th>\n",
       "      <th>season</th>\n",
       "    </tr>\n",
       "  </thead>\n",
       "  <tbody>\n",
       "    <tr>\n",
       "      <th>0</th>\n",
       "      <td>Sun, Jan 1, 2023</td>\n",
       "      <td>8:00p</td>\n",
       "      <td>Boston Celtics</td>\n",
       "      <td>111</td>\n",
       "      <td>Denver Nuggets</td>\n",
       "      <td>123</td>\n",
       "      <td>Box Score</td>\n",
       "      <td></td>\n",
       "      <td>19,641</td>\n",
       "      <td>Ball Arena</td>\n",
       "      <td>/boxscores/202301010DEN.html</td>\n",
       "      <td>202301010DEN</td>\n",
       "      <td>2023</td>\n",
       "    </tr>\n",
       "    <tr>\n",
       "      <th>1</th>\n",
       "      <td>Sun, Jan 1, 2023</td>\n",
       "      <td>8:00p</td>\n",
       "      <td>Sacramento Kings</td>\n",
       "      <td>108</td>\n",
       "      <td>Memphis Grizzlies</td>\n",
       "      <td>118</td>\n",
       "      <td>Box Score</td>\n",
       "      <td></td>\n",
       "      <td>17,794</td>\n",
       "      <td>FedEx Forum</td>\n",
       "      <td>/boxscores/202301010MEM.html</td>\n",
       "      <td>202301010MEM</td>\n",
       "      <td>2023</td>\n",
       "    </tr>\n",
       "    <tr>\n",
       "      <th>2</th>\n",
       "      <td>Sun, Jan 1, 2023</td>\n",
       "      <td>8:00p</td>\n",
       "      <td>Washington Wizards</td>\n",
       "      <td>118</td>\n",
       "      <td>Milwaukee Bucks</td>\n",
       "      <td>95</td>\n",
       "      <td>Box Score</td>\n",
       "      <td></td>\n",
       "      <td>17,341</td>\n",
       "      <td>Fiserv Forum</td>\n",
       "      <td>/boxscores/202301010MIL.html</td>\n",
       "      <td>202301010MIL</td>\n",
       "      <td>2023</td>\n",
       "    </tr>\n",
       "    <tr>\n",
       "      <th>3</th>\n",
       "      <td>Mon, Jan 2, 2023</td>\n",
       "      <td>3:00p</td>\n",
       "      <td>Phoenix Suns</td>\n",
       "      <td>83</td>\n",
       "      <td>New York Knicks</td>\n",
       "      <td>102</td>\n",
       "      <td>Box Score</td>\n",
       "      <td></td>\n",
       "      <td>19,812</td>\n",
       "      <td>Madison Square Garden (IV)</td>\n",
       "      <td>/boxscores/202301020NYK.html</td>\n",
       "      <td>202301020NYK</td>\n",
       "      <td>2023</td>\n",
       "    </tr>\n",
       "    <tr>\n",
       "      <th>4</th>\n",
       "      <td>Mon, Jan 2, 2023</td>\n",
       "      <td>7:00p</td>\n",
       "      <td>Los Angeles Lakers</td>\n",
       "      <td>121</td>\n",
       "      <td>Charlotte Hornets</td>\n",
       "      <td>115</td>\n",
       "      <td>Box Score</td>\n",
       "      <td></td>\n",
       "      <td>19,210</td>\n",
       "      <td>Spectrum Center</td>\n",
       "      <td>/boxscores/202301020CHO.html</td>\n",
       "      <td>202301020CHO</td>\n",
       "      <td>2023</td>\n",
       "    </tr>\n",
       "  </tbody>\n",
       "</table>\n",
       "</div>"
      ],
      "text/plain": [
       "          date_game game_start_time   visitor_team_name visitor_pts  \\\n",
       "0  Sun, Jan 1, 2023           8:00p      Boston Celtics         111   \n",
       "1  Sun, Jan 1, 2023           8:00p    Sacramento Kings         108   \n",
       "2  Sun, Jan 1, 2023           8:00p  Washington Wizards         118   \n",
       "3  Mon, Jan 2, 2023           3:00p        Phoenix Suns          83   \n",
       "4  Mon, Jan 2, 2023           7:00p  Los Angeles Lakers         121   \n",
       "\n",
       "      home_team_name home_pts box_score_text overtimes attendance  \\\n",
       "0     Denver Nuggets      123      Box Score               19,641   \n",
       "1  Memphis Grizzlies      118      Box Score               17,794   \n",
       "2    Milwaukee Bucks       95      Box Score               17,341   \n",
       "3    New York Knicks      102      Box Score               19,812   \n",
       "4  Charlotte Hornets      115      Box Score               19,210   \n",
       "\n",
       "                   arena_name                  boxscore_url       game_id  \\\n",
       "0                  Ball Arena  /boxscores/202301010DEN.html  202301010DEN   \n",
       "1                 FedEx Forum  /boxscores/202301010MEM.html  202301010MEM   \n",
       "2                Fiserv Forum  /boxscores/202301010MIL.html  202301010MIL   \n",
       "3  Madison Square Garden (IV)  /boxscores/202301020NYK.html  202301020NYK   \n",
       "4             Spectrum Center  /boxscores/202301020CHO.html  202301020CHO   \n",
       "\n",
       "  season  \n",
       "0   2023  \n",
       "1   2023  \n",
       "2   2023  \n",
       "3   2023  \n",
       "4   2023  "
      ]
     },
     "execution_count": 2,
     "metadata": {},
     "output_type": "execute_result"
    }
   ],
   "source": [
    "table_type='schedule'\n",
    "season='2023'\n",
    "month='january'\n",
    "df = pull_data(table_type=table_type,season=season,month=month)\n",
    "df.head(5)"
   ]
  },
  {
   "cell_type": "markdown",
   "id": "8176cc19-64e3-4198-98f7-5b10619a07ab",
   "metadata": {},
   "source": [
    "## Test Case 4: Boxscore Page"
   ]
  },
  {
   "cell_type": "code",
   "execution_count": 5,
   "id": "d1b39aa7-df7d-4341-9f9d-a967035613a6",
   "metadata": {
    "tags": []
   },
   "outputs": [],
   "source": [
    "table_type='game-basic'\n",
    "suffix='/boxscores/202304110MIA.html'\n",
    "df = pull_data(table_type=table_type,suffix=suffix)"
   ]
  },
  {
   "cell_type": "markdown",
   "id": "8803de0f-0d8d-4307-9b2d-7ed3a48db061",
   "metadata": {},
   "source": [
    "## Test Setup"
   ]
  },
  {
   "cell_type": "code",
   "execution_count": null,
   "id": "f1cf4fdc-7e1a-4420-b251-8955d68a587c",
   "metadata": {},
   "outputs": [],
   "source": []
  }
 ],
 "metadata": {
  "kernelspec": {
   "display_name": "bball_scraper_env",
   "language": "python",
   "name": "bball_scraper_env"
  },
  "language_info": {
   "codemirror_mode": {
    "name": "ipython",
    "version": 3
   },
   "file_extension": ".py",
   "mimetype": "text/x-python",
   "name": "python",
   "nbconvert_exporter": "python",
   "pygments_lexer": "ipython3",
   "version": "3.11.5"
  }
 },
 "nbformat": 4,
 "nbformat_minor": 5
}
