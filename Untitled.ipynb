{
 "cells": [
  {
   "cell_type": "code",
   "execution_count": 1,
   "id": "62465911-50cc-4a1f-a338-d38923413287",
   "metadata": {
    "tags": []
   },
   "outputs": [],
   "source": [
    "from setup_db import setup"
   ]
  },
  {
   "cell_type": "code",
   "execution_count": 2,
   "id": "569e757c-247e-4dfa-b26d-436b29080bb2",
   "metadata": {
    "tags": []
   },
   "outputs": [
    {
     "data": {
      "text/html": [
       "<pre style=\"white-space:pre;overflow-x:auto;line-height:normal;font-family:Menlo,'DejaVu Sans Mono',consolas,'Courier New',monospace\">09:21:51.677 | <span style=\"color: #008080; text-decoration-color: #008080\">INFO</span>    | setup_db - Starting setup with table_type: injuries, run_type: update\n",
       "</pre>\n"
      ],
      "text/plain": [
       "09:21:51.677 | \u001b[36mINFO\u001b[0m    | setup_db - Starting setup with table_type: injuries, run_type: update\n"
      ]
     },
     "metadata": {},
     "output_type": "display_data"
    },
    {
     "data": {
      "text/html": [
       "<pre style=\"white-space:pre;overflow-x:auto;line-height:normal;font-family:Menlo,'DejaVu Sans Mono',consolas,'Courier New',monospace\">09:21:55.202 | <span style=\"color: #008080; text-decoration-color: #008080\">INFO</span>    | bball_scraper.main - <span style=\"color: #008000; text-decoration-color: #008000\">Completed</span> data pull with table_type: injuries, team_code: None, month: None, suffix=/friv/injuries.fcgi\n",
       "</pre>\n"
      ],
      "text/plain": [
       "09:21:55.202 | \u001b[36mINFO\u001b[0m    | bball_scraper.main - \u001b[32mCompleted\u001b[0m data pull with table_type: injuries, team_code: None, month: None, suffix=/friv/injuries.fcgi\n"
      ]
     },
     "metadata": {},
     "output_type": "display_data"
    },
    {
     "data": {
      "text/html": [
       "<pre style=\"white-space:pre;overflow-x:auto;line-height:normal;font-family:Menlo,'DejaVu Sans Mono',consolas,'Courier New',monospace\">09:21:55.207 | <span style=\"color: #008080; text-decoration-color: #008080\">INFO</span>    | setup_db - Saved data from injuries to injuries.csv\n",
       "</pre>\n"
      ],
      "text/plain": [
       "09:21:55.207 | \u001b[36mINFO\u001b[0m    | setup_db - Saved data from injuries to injuries.csv\n"
      ]
     },
     "metadata": {},
     "output_type": "display_data"
    },
    {
     "data": {
      "text/html": [
       "<pre style=\"white-space:pre;overflow-x:auto;line-height:normal;font-family:Menlo,'DejaVu Sans Mono',consolas,'Courier New',monospace\">09:21:55.208 | <span style=\"color: #008080; text-decoration-color: #008080\">INFO</span>    | setup_db - Starting setup with table_type: roster, run_type: update\n",
       "</pre>\n"
      ],
      "text/plain": [
       "09:21:55.208 | \u001b[36mINFO\u001b[0m    | setup_db - Starting setup with table_type: roster, run_type: update\n"
      ]
     },
     "metadata": {},
     "output_type": "display_data"
    },
    {
     "data": {
      "text/html": [
       "<pre style=\"white-space:pre;overflow-x:auto;line-height:normal;font-family:Menlo,'DejaVu Sans Mono',consolas,'Courier New',monospace\">09:21:58.590 | <span style=\"color: #008080; text-decoration-color: #008080\">INFO</span>    | bball_scraper.main - <span style=\"color: #008000; text-decoration-color: #008000\">Completed</span> data pull with table_type: roster, team_code: ATL, month: None, suffix=None\n",
       "</pre>\n"
      ],
      "text/plain": [
       "09:21:58.590 | \u001b[36mINFO\u001b[0m    | bball_scraper.main - \u001b[32mCompleted\u001b[0m data pull with table_type: roster, team_code: ATL, month: None, suffix=None\n"
      ]
     },
     "metadata": {},
     "output_type": "display_data"
    },
    {
     "data": {
      "text/html": [
       "<pre style=\"white-space:pre;overflow-x:auto;line-height:normal;font-family:Menlo,'DejaVu Sans Mono',consolas,'Courier New',monospace\">09:22:01.965 | <span style=\"color: #008080; text-decoration-color: #008080\">INFO</span>    | bball_scraper.main - <span style=\"color: #008000; text-decoration-color: #008000\">Completed</span> data pull with table_type: roster, team_code: BOS, month: None, suffix=None\n",
       "</pre>\n"
      ],
      "text/plain": [
       "09:22:01.965 | \u001b[36mINFO\u001b[0m    | bball_scraper.main - \u001b[32mCompleted\u001b[0m data pull with table_type: roster, team_code: BOS, month: None, suffix=None\n"
      ]
     },
     "metadata": {},
     "output_type": "display_data"
    },
    {
     "data": {
      "text/html": [
       "<pre style=\"white-space:pre;overflow-x:auto;line-height:normal;font-family:Menlo,'DejaVu Sans Mono',consolas,'Courier New',monospace\">09:22:05.384 | <span style=\"color: #008080; text-decoration-color: #008080\">INFO</span>    | bball_scraper.main - <span style=\"color: #008000; text-decoration-color: #008000\">Completed</span> data pull with table_type: roster, team_code: BRK, month: None, suffix=None\n",
       "</pre>\n"
      ],
      "text/plain": [
       "09:22:05.384 | \u001b[36mINFO\u001b[0m    | bball_scraper.main - \u001b[32mCompleted\u001b[0m data pull with table_type: roster, team_code: BRK, month: None, suffix=None\n"
      ]
     },
     "metadata": {},
     "output_type": "display_data"
    },
    {
     "data": {
      "text/html": [
       "<pre style=\"white-space:pre;overflow-x:auto;line-height:normal;font-family:Menlo,'DejaVu Sans Mono',consolas,'Courier New',monospace\">09:22:08.796 | <span style=\"color: #008080; text-decoration-color: #008080\">INFO</span>    | bball_scraper.main - <span style=\"color: #008000; text-decoration-color: #008000\">Completed</span> data pull with table_type: roster, team_code: CHI, month: None, suffix=None\n",
       "</pre>\n"
      ],
      "text/plain": [
       "09:22:08.796 | \u001b[36mINFO\u001b[0m    | bball_scraper.main - \u001b[32mCompleted\u001b[0m data pull with table_type: roster, team_code: CHI, month: None, suffix=None\n"
      ]
     },
     "metadata": {},
     "output_type": "display_data"
    },
    {
     "data": {
      "text/html": [
       "<pre style=\"white-space:pre;overflow-x:auto;line-height:normal;font-family:Menlo,'DejaVu Sans Mono',consolas,'Courier New',monospace\">09:22:12.183 | <span style=\"color: #008080; text-decoration-color: #008080\">INFO</span>    | bball_scraper.main - <span style=\"color: #008000; text-decoration-color: #008000\">Completed</span> data pull with table_type: roster, team_code: CHO, month: None, suffix=None\n",
       "</pre>\n"
      ],
      "text/plain": [
       "09:22:12.183 | \u001b[36mINFO\u001b[0m    | bball_scraper.main - \u001b[32mCompleted\u001b[0m data pull with table_type: roster, team_code: CHO, month: None, suffix=None\n"
      ]
     },
     "metadata": {},
     "output_type": "display_data"
    },
    {
     "data": {
      "text/html": [
       "<pre style=\"white-space:pre;overflow-x:auto;line-height:normal;font-family:Menlo,'DejaVu Sans Mono',consolas,'Courier New',monospace\">09:22:15.664 | <span style=\"color: #008080; text-decoration-color: #008080\">INFO</span>    | bball_scraper.main - <span style=\"color: #008000; text-decoration-color: #008000\">Completed</span> data pull with table_type: roster, team_code: CLE, month: None, suffix=None\n",
       "</pre>\n"
      ],
      "text/plain": [
       "09:22:15.664 | \u001b[36mINFO\u001b[0m    | bball_scraper.main - \u001b[32mCompleted\u001b[0m data pull with table_type: roster, team_code: CLE, month: None, suffix=None\n"
      ]
     },
     "metadata": {},
     "output_type": "display_data"
    },
    {
     "data": {
      "text/html": [
       "<pre style=\"white-space:pre;overflow-x:auto;line-height:normal;font-family:Menlo,'DejaVu Sans Mono',consolas,'Courier New',monospace\">09:22:19.047 | <span style=\"color: #008080; text-decoration-color: #008080\">INFO</span>    | bball_scraper.main - <span style=\"color: #008000; text-decoration-color: #008000\">Completed</span> data pull with table_type: roster, team_code: DAL, month: None, suffix=None\n",
       "</pre>\n"
      ],
      "text/plain": [
       "09:22:19.047 | \u001b[36mINFO\u001b[0m    | bball_scraper.main - \u001b[32mCompleted\u001b[0m data pull with table_type: roster, team_code: DAL, month: None, suffix=None\n"
      ]
     },
     "metadata": {},
     "output_type": "display_data"
    },
    {
     "data": {
      "text/html": [
       "<pre style=\"white-space:pre;overflow-x:auto;line-height:normal;font-family:Menlo,'DejaVu Sans Mono',consolas,'Courier New',monospace\">09:22:22.420 | <span style=\"color: #008080; text-decoration-color: #008080\">INFO</span>    | bball_scraper.main - <span style=\"color: #008000; text-decoration-color: #008000\">Completed</span> data pull with table_type: roster, team_code: DEN, month: None, suffix=None\n",
       "</pre>\n"
      ],
      "text/plain": [
       "09:22:22.420 | \u001b[36mINFO\u001b[0m    | bball_scraper.main - \u001b[32mCompleted\u001b[0m data pull with table_type: roster, team_code: DEN, month: None, suffix=None\n"
      ]
     },
     "metadata": {},
     "output_type": "display_data"
    },
    {
     "data": {
      "text/html": [
       "<pre style=\"white-space:pre;overflow-x:auto;line-height:normal;font-family:Menlo,'DejaVu Sans Mono',consolas,'Courier New',monospace\">09:22:25.808 | <span style=\"color: #008080; text-decoration-color: #008080\">INFO</span>    | bball_scraper.main - <span style=\"color: #008000; text-decoration-color: #008000\">Completed</span> data pull with table_type: roster, team_code: DET, month: None, suffix=None\n",
       "</pre>\n"
      ],
      "text/plain": [
       "09:22:25.808 | \u001b[36mINFO\u001b[0m    | bball_scraper.main - \u001b[32mCompleted\u001b[0m data pull with table_type: roster, team_code: DET, month: None, suffix=None\n"
      ]
     },
     "metadata": {},
     "output_type": "display_data"
    },
    {
     "data": {
      "text/html": [
       "<pre style=\"white-space:pre;overflow-x:auto;line-height:normal;font-family:Menlo,'DejaVu Sans Mono',consolas,'Courier New',monospace\">09:22:29.201 | <span style=\"color: #008080; text-decoration-color: #008080\">INFO</span>    | bball_scraper.main - <span style=\"color: #008000; text-decoration-color: #008000\">Completed</span> data pull with table_type: roster, team_code: GSW, month: None, suffix=None\n",
       "</pre>\n"
      ],
      "text/plain": [
       "09:22:29.201 | \u001b[36mINFO\u001b[0m    | bball_scraper.main - \u001b[32mCompleted\u001b[0m data pull with table_type: roster, team_code: GSW, month: None, suffix=None\n"
      ]
     },
     "metadata": {},
     "output_type": "display_data"
    },
    {
     "data": {
      "text/html": [
       "<pre style=\"white-space:pre;overflow-x:auto;line-height:normal;font-family:Menlo,'DejaVu Sans Mono',consolas,'Courier New',monospace\">09:22:32.583 | <span style=\"color: #008080; text-decoration-color: #008080\">INFO</span>    | bball_scraper.main - <span style=\"color: #008000; text-decoration-color: #008000\">Completed</span> data pull with table_type: roster, team_code: HOU, month: None, suffix=None\n",
       "</pre>\n"
      ],
      "text/plain": [
       "09:22:32.583 | \u001b[36mINFO\u001b[0m    | bball_scraper.main - \u001b[32mCompleted\u001b[0m data pull with table_type: roster, team_code: HOU, month: None, suffix=None\n"
      ]
     },
     "metadata": {},
     "output_type": "display_data"
    },
    {
     "data": {
      "text/html": [
       "<pre style=\"white-space:pre;overflow-x:auto;line-height:normal;font-family:Menlo,'DejaVu Sans Mono',consolas,'Courier New',monospace\">09:22:35.972 | <span style=\"color: #008080; text-decoration-color: #008080\">INFO</span>    | bball_scraper.main - <span style=\"color: #008000; text-decoration-color: #008000\">Completed</span> data pull with table_type: roster, team_code: IND, month: None, suffix=None\n",
       "</pre>\n"
      ],
      "text/plain": [
       "09:22:35.972 | \u001b[36mINFO\u001b[0m    | bball_scraper.main - \u001b[32mCompleted\u001b[0m data pull with table_type: roster, team_code: IND, month: None, suffix=None\n"
      ]
     },
     "metadata": {},
     "output_type": "display_data"
    },
    {
     "data": {
      "text/html": [
       "<pre style=\"white-space:pre;overflow-x:auto;line-height:normal;font-family:Menlo,'DejaVu Sans Mono',consolas,'Courier New',monospace\">09:22:39.361 | <span style=\"color: #008080; text-decoration-color: #008080\">INFO</span>    | bball_scraper.main - <span style=\"color: #008000; text-decoration-color: #008000\">Completed</span> data pull with table_type: roster, team_code: LAC, month: None, suffix=None\n",
       "</pre>\n"
      ],
      "text/plain": [
       "09:22:39.361 | \u001b[36mINFO\u001b[0m    | bball_scraper.main - \u001b[32mCompleted\u001b[0m data pull with table_type: roster, team_code: LAC, month: None, suffix=None\n"
      ]
     },
     "metadata": {},
     "output_type": "display_data"
    },
    {
     "data": {
      "text/html": [
       "<pre style=\"white-space:pre;overflow-x:auto;line-height:normal;font-family:Menlo,'DejaVu Sans Mono',consolas,'Courier New',monospace\">09:22:42.737 | <span style=\"color: #008080; text-decoration-color: #008080\">INFO</span>    | bball_scraper.main - <span style=\"color: #008000; text-decoration-color: #008000\">Completed</span> data pull with table_type: roster, team_code: LAL, month: None, suffix=None\n",
       "</pre>\n"
      ],
      "text/plain": [
       "09:22:42.737 | \u001b[36mINFO\u001b[0m    | bball_scraper.main - \u001b[32mCompleted\u001b[0m data pull with table_type: roster, team_code: LAL, month: None, suffix=None\n"
      ]
     },
     "metadata": {},
     "output_type": "display_data"
    },
    {
     "data": {
      "text/html": [
       "<pre style=\"white-space:pre;overflow-x:auto;line-height:normal;font-family:Menlo,'DejaVu Sans Mono',consolas,'Courier New',monospace\">09:22:46.132 | <span style=\"color: #008080; text-decoration-color: #008080\">INFO</span>    | bball_scraper.main - <span style=\"color: #008000; text-decoration-color: #008000\">Completed</span> data pull with table_type: roster, team_code: MEM, month: None, suffix=None\n",
       "</pre>\n"
      ],
      "text/plain": [
       "09:22:46.132 | \u001b[36mINFO\u001b[0m    | bball_scraper.main - \u001b[32mCompleted\u001b[0m data pull with table_type: roster, team_code: MEM, month: None, suffix=None\n"
      ]
     },
     "metadata": {},
     "output_type": "display_data"
    },
    {
     "data": {
      "text/html": [
       "<pre style=\"white-space:pre;overflow-x:auto;line-height:normal;font-family:Menlo,'DejaVu Sans Mono',consolas,'Courier New',monospace\">09:22:49.502 | <span style=\"color: #008080; text-decoration-color: #008080\">INFO</span>    | bball_scraper.main - <span style=\"color: #008000; text-decoration-color: #008000\">Completed</span> data pull with table_type: roster, team_code: MIA, month: None, suffix=None\n",
       "</pre>\n"
      ],
      "text/plain": [
       "09:22:49.502 | \u001b[36mINFO\u001b[0m    | bball_scraper.main - \u001b[32mCompleted\u001b[0m data pull with table_type: roster, team_code: MIA, month: None, suffix=None\n"
      ]
     },
     "metadata": {},
     "output_type": "display_data"
    },
    {
     "data": {
      "text/html": [
       "<pre style=\"white-space:pre;overflow-x:auto;line-height:normal;font-family:Menlo,'DejaVu Sans Mono',consolas,'Courier New',monospace\">09:22:52.880 | <span style=\"color: #008080; text-decoration-color: #008080\">INFO</span>    | bball_scraper.main - <span style=\"color: #008000; text-decoration-color: #008000\">Completed</span> data pull with table_type: roster, team_code: MIL, month: None, suffix=None\n",
       "</pre>\n"
      ],
      "text/plain": [
       "09:22:52.880 | \u001b[36mINFO\u001b[0m    | bball_scraper.main - \u001b[32mCompleted\u001b[0m data pull with table_type: roster, team_code: MIL, month: None, suffix=None\n"
      ]
     },
     "metadata": {},
     "output_type": "display_data"
    },
    {
     "data": {
      "text/html": [
       "<pre style=\"white-space:pre;overflow-x:auto;line-height:normal;font-family:Menlo,'DejaVu Sans Mono',consolas,'Courier New',monospace\">09:22:56.354 | <span style=\"color: #008080; text-decoration-color: #008080\">INFO</span>    | bball_scraper.main - <span style=\"color: #008000; text-decoration-color: #008000\">Completed</span> data pull with table_type: roster, team_code: MIN, month: None, suffix=None\n",
       "</pre>\n"
      ],
      "text/plain": [
       "09:22:56.354 | \u001b[36mINFO\u001b[0m    | bball_scraper.main - \u001b[32mCompleted\u001b[0m data pull with table_type: roster, team_code: MIN, month: None, suffix=None\n"
      ]
     },
     "metadata": {},
     "output_type": "display_data"
    },
    {
     "data": {
      "text/html": [
       "<pre style=\"white-space:pre;overflow-x:auto;line-height:normal;font-family:Menlo,'DejaVu Sans Mono',consolas,'Courier New',monospace\">09:22:59.746 | <span style=\"color: #008080; text-decoration-color: #008080\">INFO</span>    | bball_scraper.main - <span style=\"color: #008000; text-decoration-color: #008000\">Completed</span> data pull with table_type: roster, team_code: NOP, month: None, suffix=None\n",
       "</pre>\n"
      ],
      "text/plain": [
       "09:22:59.746 | \u001b[36mINFO\u001b[0m    | bball_scraper.main - \u001b[32mCompleted\u001b[0m data pull with table_type: roster, team_code: NOP, month: None, suffix=None\n"
      ]
     },
     "metadata": {},
     "output_type": "display_data"
    },
    {
     "data": {
      "text/html": [
       "<pre style=\"white-space:pre;overflow-x:auto;line-height:normal;font-family:Menlo,'DejaVu Sans Mono',consolas,'Courier New',monospace\">09:23:03.152 | <span style=\"color: #008080; text-decoration-color: #008080\">INFO</span>    | bball_scraper.main - <span style=\"color: #008000; text-decoration-color: #008000\">Completed</span> data pull with table_type: roster, team_code: NYK, month: None, suffix=None\n",
       "</pre>\n"
      ],
      "text/plain": [
       "09:23:03.152 | \u001b[36mINFO\u001b[0m    | bball_scraper.main - \u001b[32mCompleted\u001b[0m data pull with table_type: roster, team_code: NYK, month: None, suffix=None\n"
      ]
     },
     "metadata": {},
     "output_type": "display_data"
    },
    {
     "data": {
      "text/html": [
       "<pre style=\"white-space:pre;overflow-x:auto;line-height:normal;font-family:Menlo,'DejaVu Sans Mono',consolas,'Courier New',monospace\">09:23:06.527 | <span style=\"color: #008080; text-decoration-color: #008080\">INFO</span>    | bball_scraper.main - <span style=\"color: #008000; text-decoration-color: #008000\">Completed</span> data pull with table_type: roster, team_code: OKC, month: None, suffix=None\n",
       "</pre>\n"
      ],
      "text/plain": [
       "09:23:06.527 | \u001b[36mINFO\u001b[0m    | bball_scraper.main - \u001b[32mCompleted\u001b[0m data pull with table_type: roster, team_code: OKC, month: None, suffix=None\n"
      ]
     },
     "metadata": {},
     "output_type": "display_data"
    },
    {
     "data": {
      "text/html": [
       "<pre style=\"white-space:pre;overflow-x:auto;line-height:normal;font-family:Menlo,'DejaVu Sans Mono',consolas,'Courier New',monospace\">09:23:09.904 | <span style=\"color: #008080; text-decoration-color: #008080\">INFO</span>    | bball_scraper.main - <span style=\"color: #008000; text-decoration-color: #008000\">Completed</span> data pull with table_type: roster, team_code: ORL, month: None, suffix=None\n",
       "</pre>\n"
      ],
      "text/plain": [
       "09:23:09.904 | \u001b[36mINFO\u001b[0m    | bball_scraper.main - \u001b[32mCompleted\u001b[0m data pull with table_type: roster, team_code: ORL, month: None, suffix=None\n"
      ]
     },
     "metadata": {},
     "output_type": "display_data"
    },
    {
     "data": {
      "text/html": [
       "<pre style=\"white-space:pre;overflow-x:auto;line-height:normal;font-family:Menlo,'DejaVu Sans Mono',consolas,'Courier New',monospace\">09:23:13.285 | <span style=\"color: #008080; text-decoration-color: #008080\">INFO</span>    | bball_scraper.main - <span style=\"color: #008000; text-decoration-color: #008000\">Completed</span> data pull with table_type: roster, team_code: PHI, month: None, suffix=None\n",
       "</pre>\n"
      ],
      "text/plain": [
       "09:23:13.285 | \u001b[36mINFO\u001b[0m    | bball_scraper.main - \u001b[32mCompleted\u001b[0m data pull with table_type: roster, team_code: PHI, month: None, suffix=None\n"
      ]
     },
     "metadata": {},
     "output_type": "display_data"
    },
    {
     "data": {
      "text/html": [
       "<pre style=\"white-space:pre;overflow-x:auto;line-height:normal;font-family:Menlo,'DejaVu Sans Mono',consolas,'Courier New',monospace\">09:23:16.664 | <span style=\"color: #008080; text-decoration-color: #008080\">INFO</span>    | bball_scraper.main - <span style=\"color: #008000; text-decoration-color: #008000\">Completed</span> data pull with table_type: roster, team_code: PHO, month: None, suffix=None\n",
       "</pre>\n"
      ],
      "text/plain": [
       "09:23:16.664 | \u001b[36mINFO\u001b[0m    | bball_scraper.main - \u001b[32mCompleted\u001b[0m data pull with table_type: roster, team_code: PHO, month: None, suffix=None\n"
      ]
     },
     "metadata": {},
     "output_type": "display_data"
    },
    {
     "data": {
      "text/html": [
       "<pre style=\"white-space:pre;overflow-x:auto;line-height:normal;font-family:Menlo,'DejaVu Sans Mono',consolas,'Courier New',monospace\">09:23:20.056 | <span style=\"color: #008080; text-decoration-color: #008080\">INFO</span>    | bball_scraper.main - <span style=\"color: #008000; text-decoration-color: #008000\">Completed</span> data pull with table_type: roster, team_code: POR, month: None, suffix=None\n",
       "</pre>\n"
      ],
      "text/plain": [
       "09:23:20.056 | \u001b[36mINFO\u001b[0m    | bball_scraper.main - \u001b[32mCompleted\u001b[0m data pull with table_type: roster, team_code: POR, month: None, suffix=None\n"
      ]
     },
     "metadata": {},
     "output_type": "display_data"
    },
    {
     "data": {
      "text/html": [
       "<pre style=\"white-space:pre;overflow-x:auto;line-height:normal;font-family:Menlo,'DejaVu Sans Mono',consolas,'Courier New',monospace\">09:23:23.536 | <span style=\"color: #008080; text-decoration-color: #008080\">INFO</span>    | bball_scraper.main - <span style=\"color: #008000; text-decoration-color: #008000\">Completed</span> data pull with table_type: roster, team_code: SAC, month: None, suffix=None\n",
       "</pre>\n"
      ],
      "text/plain": [
       "09:23:23.536 | \u001b[36mINFO\u001b[0m    | bball_scraper.main - \u001b[32mCompleted\u001b[0m data pull with table_type: roster, team_code: SAC, month: None, suffix=None\n"
      ]
     },
     "metadata": {},
     "output_type": "display_data"
    },
    {
     "data": {
      "text/html": [
       "<pre style=\"white-space:pre;overflow-x:auto;line-height:normal;font-family:Menlo,'DejaVu Sans Mono',consolas,'Courier New',monospace\">09:23:26.912 | <span style=\"color: #008080; text-decoration-color: #008080\">INFO</span>    | bball_scraper.main - <span style=\"color: #008000; text-decoration-color: #008000\">Completed</span> data pull with table_type: roster, team_code: SAS, month: None, suffix=None\n",
       "</pre>\n"
      ],
      "text/plain": [
       "09:23:26.912 | \u001b[36mINFO\u001b[0m    | bball_scraper.main - \u001b[32mCompleted\u001b[0m data pull with table_type: roster, team_code: SAS, month: None, suffix=None\n"
      ]
     },
     "metadata": {},
     "output_type": "display_data"
    },
    {
     "data": {
      "text/html": [
       "<pre style=\"white-space:pre;overflow-x:auto;line-height:normal;font-family:Menlo,'DejaVu Sans Mono',consolas,'Courier New',monospace\">09:23:30.281 | <span style=\"color: #008080; text-decoration-color: #008080\">INFO</span>    | bball_scraper.main - <span style=\"color: #008000; text-decoration-color: #008000\">Completed</span> data pull with table_type: roster, team_code: TOR, month: None, suffix=None\n",
       "</pre>\n"
      ],
      "text/plain": [
       "09:23:30.281 | \u001b[36mINFO\u001b[0m    | bball_scraper.main - \u001b[32mCompleted\u001b[0m data pull with table_type: roster, team_code: TOR, month: None, suffix=None\n"
      ]
     },
     "metadata": {},
     "output_type": "display_data"
    },
    {
     "data": {
      "text/html": [
       "<pre style=\"white-space:pre;overflow-x:auto;line-height:normal;font-family:Menlo,'DejaVu Sans Mono',consolas,'Courier New',monospace\">09:23:33.656 | <span style=\"color: #008080; text-decoration-color: #008080\">INFO</span>    | bball_scraper.main - <span style=\"color: #008000; text-decoration-color: #008000\">Completed</span> data pull with table_type: roster, team_code: UTA, month: None, suffix=None\n",
       "</pre>\n"
      ],
      "text/plain": [
       "09:23:33.656 | \u001b[36mINFO\u001b[0m    | bball_scraper.main - \u001b[32mCompleted\u001b[0m data pull with table_type: roster, team_code: UTA, month: None, suffix=None\n"
      ]
     },
     "metadata": {},
     "output_type": "display_data"
    },
    {
     "data": {
      "text/html": [
       "<pre style=\"white-space:pre;overflow-x:auto;line-height:normal;font-family:Menlo,'DejaVu Sans Mono',consolas,'Courier New',monospace\">09:23:37.131 | <span style=\"color: #008080; text-decoration-color: #008080\">INFO</span>    | bball_scraper.main - <span style=\"color: #008000; text-decoration-color: #008000\">Completed</span> data pull with table_type: roster, team_code: WAS, month: None, suffix=None\n",
       "</pre>\n"
      ],
      "text/plain": [
       "09:23:37.131 | \u001b[36mINFO\u001b[0m    | bball_scraper.main - \u001b[32mCompleted\u001b[0m data pull with table_type: roster, team_code: WAS, month: None, suffix=None\n"
      ]
     },
     "metadata": {},
     "output_type": "display_data"
    },
    {
     "data": {
      "text/html": [
       "<pre style=\"white-space:pre;overflow-x:auto;line-height:normal;font-family:Menlo,'DejaVu Sans Mono',consolas,'Courier New',monospace\">09:23:37.137 | <span style=\"color: #008080; text-decoration-color: #008080\">INFO</span>    | setup_db - Saved data from roster to team_rosters_2024.csv\n",
       "</pre>\n"
      ],
      "text/plain": [
       "09:23:37.137 | \u001b[36mINFO\u001b[0m    | setup_db - Saved data from roster to team_rosters_2024.csv\n"
      ]
     },
     "metadata": {},
     "output_type": "display_data"
    },
    {
     "data": {
      "text/html": [
       "<pre style=\"white-space:pre;overflow-x:auto;line-height:normal;font-family:Menlo,'DejaVu Sans Mono',consolas,'Courier New',monospace\">09:23:37.139 | <span style=\"color: #008080; text-decoration-color: #008080\">INFO</span>    | setup_db - Starting setup with table_type: schedule, run_type: update\n",
       "</pre>\n"
      ],
      "text/plain": [
       "09:23:37.139 | \u001b[36mINFO\u001b[0m    | setup_db - Starting setup with table_type: schedule, run_type: update\n"
      ]
     },
     "metadata": {},
     "output_type": "display_data"
    },
    {
     "data": {
      "text/html": [
       "<pre style=\"white-space:pre;overflow-x:auto;line-height:normal;font-family:Menlo,'DejaVu Sans Mono',consolas,'Courier New',monospace\">09:23:40.673 | <span style=\"color: #008080; text-decoration-color: #008080\">INFO</span>    | bball_scraper.main - <span style=\"color: #008000; text-decoration-color: #008000\">Completed</span> data pull with table_type: schedule, team_code: None, month: january, suffix=None\n",
       "</pre>\n"
      ],
      "text/plain": [
       "09:23:40.673 | \u001b[36mINFO\u001b[0m    | bball_scraper.main - \u001b[32mCompleted\u001b[0m data pull with table_type: schedule, team_code: None, month: january, suffix=None\n"
      ]
     },
     "metadata": {},
     "output_type": "display_data"
    },
    {
     "data": {
      "text/html": [
       "<pre style=\"white-space:pre;overflow-x:auto;line-height:normal;font-family:Menlo,'DejaVu Sans Mono',consolas,'Courier New',monospace\">09:23:44.266 | <span style=\"color: #008080; text-decoration-color: #008080\">INFO</span>    | bball_scraper.main - <span style=\"color: #008000; text-decoration-color: #008000\">Completed</span> data pull with table_type: schedule, team_code: None, month: february, suffix=None\n",
       "</pre>\n"
      ],
      "text/plain": [
       "09:23:44.266 | \u001b[36mINFO\u001b[0m    | bball_scraper.main - \u001b[32mCompleted\u001b[0m data pull with table_type: schedule, team_code: None, month: february, suffix=None\n"
      ]
     },
     "metadata": {},
     "output_type": "display_data"
    },
    {
     "data": {
      "text/html": [
       "<pre style=\"white-space:pre;overflow-x:auto;line-height:normal;font-family:Menlo,'DejaVu Sans Mono',consolas,'Courier New',monospace\">09:23:47.803 | <span style=\"color: #008080; text-decoration-color: #008080\">INFO</span>    | bball_scraper.main - <span style=\"color: #008000; text-decoration-color: #008000\">Completed</span> data pull with table_type: schedule, team_code: None, month: march, suffix=None\n",
       "</pre>\n"
      ],
      "text/plain": [
       "09:23:47.803 | \u001b[36mINFO\u001b[0m    | bball_scraper.main - \u001b[32mCompleted\u001b[0m data pull with table_type: schedule, team_code: None, month: march, suffix=None\n"
      ]
     },
     "metadata": {},
     "output_type": "display_data"
    },
    {
     "data": {
      "text/html": [
       "<pre style=\"white-space:pre;overflow-x:auto;line-height:normal;font-family:Menlo,'DejaVu Sans Mono',consolas,'Courier New',monospace\">09:23:51.276 | <span style=\"color: #008080; text-decoration-color: #008080\">INFO</span>    | bball_scraper.main - <span style=\"color: #008000; text-decoration-color: #008000\">Completed</span> data pull with table_type: schedule, team_code: None, month: april, suffix=None\n",
       "</pre>\n"
      ],
      "text/plain": [
       "09:23:51.276 | \u001b[36mINFO\u001b[0m    | bball_scraper.main - \u001b[32mCompleted\u001b[0m data pull with table_type: schedule, team_code: None, month: april, suffix=None\n"
      ]
     },
     "metadata": {},
     "output_type": "display_data"
    },
    {
     "data": {
      "text/html": [
       "<pre style=\"white-space:pre;overflow-x:auto;line-height:normal;font-family:Menlo,'DejaVu Sans Mono',consolas,'Courier New',monospace\">09:24:01.499 | <span style=\"color: #008080; text-decoration-color: #008080\">INFO</span>    | bball_scraper.main - <span style=\"color: #008000; text-decoration-color: #008000\">Completed</span> data pull with table_type: schedule, team_code: None, month: may, suffix=None\n",
       "</pre>\n"
      ],
      "text/plain": [
       "09:24:01.499 | \u001b[36mINFO\u001b[0m    | bball_scraper.main - \u001b[32mCompleted\u001b[0m data pull with table_type: schedule, team_code: None, month: may, suffix=None\n"
      ]
     },
     "metadata": {},
     "output_type": "display_data"
    },
    {
     "data": {
      "text/html": [
       "<pre style=\"white-space:pre;overflow-x:auto;line-height:normal;font-family:Menlo,'DejaVu Sans Mono',consolas,'Courier New',monospace\">09:24:11.633 | <span style=\"color: #008080; text-decoration-color: #008080\">INFO</span>    | bball_scraper.main - <span style=\"color: #008000; text-decoration-color: #008000\">Completed</span> data pull with table_type: schedule, team_code: None, month: june, suffix=None\n",
       "</pre>\n"
      ],
      "text/plain": [
       "09:24:11.633 | \u001b[36mINFO\u001b[0m    | bball_scraper.main - \u001b[32mCompleted\u001b[0m data pull with table_type: schedule, team_code: None, month: june, suffix=None\n"
      ]
     },
     "metadata": {},
     "output_type": "display_data"
    },
    {
     "data": {
      "text/html": [
       "<pre style=\"white-space:pre;overflow-x:auto;line-height:normal;font-family:Menlo,'DejaVu Sans Mono',consolas,'Courier New',monospace\">09:24:21.722 | <span style=\"color: #008080; text-decoration-color: #008080\">INFO</span>    | bball_scraper.main - <span style=\"color: #008000; text-decoration-color: #008000\">Completed</span> data pull with table_type: schedule, team_code: None, month: july, suffix=None\n",
       "</pre>\n"
      ],
      "text/plain": [
       "09:24:21.722 | \u001b[36mINFO\u001b[0m    | bball_scraper.main - \u001b[32mCompleted\u001b[0m data pull with table_type: schedule, team_code: None, month: july, suffix=None\n"
      ]
     },
     "metadata": {},
     "output_type": "display_data"
    },
    {
     "data": {
      "text/html": [
       "<pre style=\"white-space:pre;overflow-x:auto;line-height:normal;font-family:Menlo,'DejaVu Sans Mono',consolas,'Courier New',monospace\">09:24:31.741 | <span style=\"color: #008080; text-decoration-color: #008080\">INFO</span>    | bball_scraper.main - <span style=\"color: #008000; text-decoration-color: #008000\">Completed</span> data pull with table_type: schedule, team_code: None, month: august, suffix=None\n",
       "</pre>\n"
      ],
      "text/plain": [
       "09:24:31.741 | \u001b[36mINFO\u001b[0m    | bball_scraper.main - \u001b[32mCompleted\u001b[0m data pull with table_type: schedule, team_code: None, month: august, suffix=None\n"
      ]
     },
     "metadata": {},
     "output_type": "display_data"
    },
    {
     "data": {
      "text/html": [
       "<pre style=\"white-space:pre;overflow-x:auto;line-height:normal;font-family:Menlo,'DejaVu Sans Mono',consolas,'Courier New',monospace\">09:24:41.828 | <span style=\"color: #008080; text-decoration-color: #008080\">INFO</span>    | bball_scraper.main - <span style=\"color: #008000; text-decoration-color: #008000\">Completed</span> data pull with table_type: schedule, team_code: None, month: september, suffix=None\n",
       "</pre>\n"
      ],
      "text/plain": [
       "09:24:41.828 | \u001b[36mINFO\u001b[0m    | bball_scraper.main - \u001b[32mCompleted\u001b[0m data pull with table_type: schedule, team_code: None, month: september, suffix=None\n"
      ]
     },
     "metadata": {},
     "output_type": "display_data"
    },
    {
     "data": {
      "text/html": [
       "<pre style=\"white-space:pre;overflow-x:auto;line-height:normal;font-family:Menlo,'DejaVu Sans Mono',consolas,'Courier New',monospace\">09:24:45.331 | <span style=\"color: #008080; text-decoration-color: #008080\">INFO</span>    | bball_scraper.main - <span style=\"color: #008000; text-decoration-color: #008000\">Completed</span> data pull with table_type: schedule, team_code: None, month: october, suffix=None\n",
       "</pre>\n"
      ],
      "text/plain": [
       "09:24:45.331 | \u001b[36mINFO\u001b[0m    | bball_scraper.main - \u001b[32mCompleted\u001b[0m data pull with table_type: schedule, team_code: None, month: october, suffix=None\n"
      ]
     },
     "metadata": {},
     "output_type": "display_data"
    },
    {
     "data": {
      "text/html": [
       "<pre style=\"white-space:pre;overflow-x:auto;line-height:normal;font-family:Menlo,'DejaVu Sans Mono',consolas,'Courier New',monospace\">09:24:48.852 | <span style=\"color: #008080; text-decoration-color: #008080\">INFO</span>    | bball_scraper.main - <span style=\"color: #008000; text-decoration-color: #008000\">Completed</span> data pull with table_type: schedule, team_code: None, month: november, suffix=None\n",
       "</pre>\n"
      ],
      "text/plain": [
       "09:24:48.852 | \u001b[36mINFO\u001b[0m    | bball_scraper.main - \u001b[32mCompleted\u001b[0m data pull with table_type: schedule, team_code: None, month: november, suffix=None\n"
      ]
     },
     "metadata": {},
     "output_type": "display_data"
    },
    {
     "data": {
      "text/html": [
       "<pre style=\"white-space:pre;overflow-x:auto;line-height:normal;font-family:Menlo,'DejaVu Sans Mono',consolas,'Courier New',monospace\">09:24:52.354 | <span style=\"color: #008080; text-decoration-color: #008080\">INFO</span>    | bball_scraper.main - <span style=\"color: #008000; text-decoration-color: #008000\">Completed</span> data pull with table_type: schedule, team_code: None, month: december, suffix=None\n",
       "</pre>\n"
      ],
      "text/plain": [
       "09:24:52.354 | \u001b[36mINFO\u001b[0m    | bball_scraper.main - \u001b[32mCompleted\u001b[0m data pull with table_type: schedule, team_code: None, month: december, suffix=None\n"
      ]
     },
     "metadata": {},
     "output_type": "display_data"
    },
    {
     "data": {
      "text/html": [
       "<pre style=\"white-space:pre;overflow-x:auto;line-height:normal;font-family:Menlo,'DejaVu Sans Mono',consolas,'Courier New',monospace\">09:24:52.367 | <span style=\"color: #008080; text-decoration-color: #008080\">INFO</span>    | setup_db - Saved data from schedule to schedule_2024.csv\n",
       "</pre>\n"
      ],
      "text/plain": [
       "09:24:52.367 | \u001b[36mINFO\u001b[0m    | setup_db - Saved data from schedule to schedule_2024.csv\n"
      ]
     },
     "metadata": {},
     "output_type": "display_data"
    },
    {
     "data": {
      "text/html": [
       "<pre style=\"white-space:pre;overflow-x:auto;line-height:normal;font-family:Menlo,'DejaVu Sans Mono',consolas,'Courier New',monospace\">09:24:52.369 | <span style=\"color: #008080; text-decoration-color: #008080\">INFO</span>    | setup_db - Starting setup with table_type: game-basic, run_type: update\n",
       "</pre>\n"
      ],
      "text/plain": [
       "09:24:52.369 | \u001b[36mINFO\u001b[0m    | setup_db - Starting setup with table_type: game-basic, run_type: update\n"
      ]
     },
     "metadata": {},
     "output_type": "display_data"
    },
    {
     "ename": "ValueError",
     "evalue": "suffix cannot be [None]",
     "output_type": "error",
     "traceback": [
      "\u001b[1;31m---------------------------------------------------------------------------\u001b[0m",
      "\u001b[1;31mValueError\u001b[0m                                Traceback (most recent call last)",
      "Cell \u001b[1;32mIn[2], line 2\u001b[0m\n\u001b[0;32m      1\u001b[0m setup_tables\u001b[38;5;241m=\u001b[39m setup()\n\u001b[1;32m----> 2\u001b[0m \u001b[43msetup_tables\u001b[49m\u001b[38;5;241;43m.\u001b[39;49m\u001b[43mrun_update\u001b[49m\u001b[43m(\u001b[49m\u001b[43m)\u001b[49m\n",
      "File \u001b[1;32m~\\Documents\\GitHub\\bball_scraper\\setup_db.py:37\u001b[0m, in \u001b[0;36msetup.run_update\u001b[1;34m(self)\u001b[0m\n\u001b[0;32m     35\u001b[0m schedule_df \u001b[38;5;241m=\u001b[39m \u001b[38;5;28mself\u001b[39m\u001b[38;5;241m.\u001b[39msetup_tables(table_type\u001b[38;5;241m=\u001b[39m\u001b[38;5;124m'\u001b[39m\u001b[38;5;124mschedule\u001b[39m\u001b[38;5;124m'\u001b[39m, run_type\u001b[38;5;241m=\u001b[39m\u001b[38;5;124m'\u001b[39m\u001b[38;5;124mupdate\u001b[39m\u001b[38;5;124m'\u001b[39m)\n\u001b[0;32m     36\u001b[0m \u001b[38;5;28mself\u001b[39m\u001b[38;5;241m.\u001b[39m__boxscore_url_list \u001b[38;5;241m=\u001b[39m schedule_df\u001b[38;5;241m.\u001b[39mboxscore_url\u001b[38;5;241m.\u001b[39mvalues\n\u001b[1;32m---> 37\u001b[0m \u001b[38;5;28;43mself\u001b[39;49m\u001b[38;5;241;43m.\u001b[39;49m\u001b[43msetup_tables\u001b[49m\u001b[43m(\u001b[49m\u001b[43mtable_type\u001b[49m\u001b[38;5;241;43m=\u001b[39;49m\u001b[38;5;124;43m'\u001b[39;49m\u001b[38;5;124;43mgame-basic\u001b[39;49m\u001b[38;5;124;43m'\u001b[39;49m\u001b[43m,\u001b[49m\u001b[43m \u001b[49m\u001b[43mrun_type\u001b[49m\u001b[38;5;241;43m=\u001b[39;49m\u001b[38;5;124;43m'\u001b[39;49m\u001b[38;5;124;43mupdate\u001b[39;49m\u001b[38;5;124;43m'\u001b[39;49m\u001b[43m)\u001b[49m\n",
      "File \u001b[1;32m~\\Documents\\GitHub\\bball_scraper\\setup_db.py:99\u001b[0m, in \u001b[0;36msetup.setup_tables\u001b[1;34m(self, table_type, run_type)\u001b[0m\n\u001b[0;32m     97\u001b[0m \u001b[38;5;28;01melif\u001b[39;00m table_type \u001b[38;5;241m==\u001b[39m \u001b[38;5;124m'\u001b[39m\u001b[38;5;124mgame-basic\u001b[39m\u001b[38;5;124m'\u001b[39m:  \n\u001b[0;32m     98\u001b[0m     \u001b[38;5;28;01mfor\u001b[39;00m suffix \u001b[38;5;129;01min\u001b[39;00m \u001b[38;5;28mself\u001b[39m\u001b[38;5;241m.\u001b[39m__boxscore_url_list:\n\u001b[1;32m---> 99\u001b[0m         df \u001b[38;5;241m=\u001b[39m \u001b[43mpull_data\u001b[49m\u001b[43m(\u001b[49m\u001b[43mtable_type\u001b[49m\u001b[38;5;241;43m=\u001b[39;49m\u001b[43mtable_type\u001b[49m\u001b[43m,\u001b[49m\u001b[43msuffix\u001b[49m\u001b[38;5;241;43m=\u001b[39;49m\u001b[43msuffix\u001b[49m\u001b[43m)\u001b[49m\n\u001b[0;32m    100\u001b[0m         outer_df_list\u001b[38;5;241m.\u001b[39mappend(df)\n\u001b[0;32m    102\u001b[0m outer_df \u001b[38;5;241m=\u001b[39m pd\u001b[38;5;241m.\u001b[39mconcat(outer_df_list)   \n",
      "File \u001b[1;32m~\\Documents\\GitHub\\bball_scraper\\bball_scraper\\main.py:46\u001b[0m, in \u001b[0;36mpull_data\u001b[1;34m(table_type, team_code, season, month, suffix)\u001b[0m\n\u001b[0;32m     15\u001b[0m \u001b[38;5;28;01mdef\u001b[39;00m \u001b[38;5;21mpull_data\u001b[39m( \n\u001b[0;32m     16\u001b[0m     table_type: \u001b[38;5;28mstr\u001b[39m, \n\u001b[0;32m     17\u001b[0m     team_code: Optional[\u001b[38;5;28mstr\u001b[39m] \u001b[38;5;241m=\u001b[39m \u001b[38;5;28;01mNone\u001b[39;00m,\n\u001b[1;32m   (...)\u001b[0m\n\u001b[0;32m     20\u001b[0m     suffix: Optional[\u001b[38;5;28mstr\u001b[39m] \u001b[38;5;241m=\u001b[39m \u001b[38;5;28;01mNone\u001b[39;00m\n\u001b[0;32m     21\u001b[0m ):\n\u001b[0;32m     22\u001b[0m \u001b[38;5;250m    \u001b[39m\u001b[38;5;124;03m\"\"\" Function that encompasses:\u001b[39;00m\n\u001b[0;32m     23\u001b[0m \u001b[38;5;124;03m    1. Querying the webpage\u001b[39;00m\n\u001b[0;32m     24\u001b[0m \u001b[38;5;124;03m    2. Reading tables from webpage\u001b[39;00m\n\u001b[1;32m   (...)\u001b[0m\n\u001b[0;32m     43\u001b[0m \u001b[38;5;124;03m    Dataframe object with data based on argument specifications.\u001b[39;00m\n\u001b[0;32m     44\u001b[0m \u001b[38;5;124;03m    \"\"\"\u001b[39;00m\n\u001b[1;32m---> 46\u001b[0m     response \u001b[38;5;241m=\u001b[39m \u001b[43mget_response\u001b[49m\u001b[43m(\u001b[49m\u001b[43mtable_type\u001b[49m\u001b[38;5;241;43m=\u001b[39;49m\u001b[43mtable_type\u001b[49m\u001b[43m,\u001b[49m\u001b[43mteam_code\u001b[49m\u001b[38;5;241;43m=\u001b[39;49m\u001b[43mteam_code\u001b[49m\u001b[43m,\u001b[49m\u001b[43mseason\u001b[49m\u001b[38;5;241;43m=\u001b[39;49m\u001b[43mseason\u001b[49m\u001b[43m,\u001b[49m\u001b[43mmonth\u001b[49m\u001b[38;5;241;43m=\u001b[39;49m\u001b[43mmonth\u001b[49m\u001b[43m,\u001b[49m\u001b[43msuffix\u001b[49m\u001b[38;5;241;43m=\u001b[39;49m\u001b[43msuffix\u001b[49m\u001b[43m)\u001b[49m\n\u001b[0;32m     47\u001b[0m     soup \u001b[38;5;241m=\u001b[39m bs(response\u001b[38;5;241m.\u001b[39mcontent, \u001b[38;5;124m'\u001b[39m\u001b[38;5;124mhtml.parser\u001b[39m\u001b[38;5;124m'\u001b[39m)\n\u001b[0;32m     48\u001b[0m     df\u001b[38;5;241m=\u001b[39m parse_tables(soup,table_type)\n",
      "File \u001b[1;32m~\\Documents\\GitHub\\bball_scraper\\bball_scraper\\main.py:93\u001b[0m, in \u001b[0;36mget_response\u001b[1;34m(table_type, team_code, season, month, suffix)\u001b[0m\n\u001b[0;32m     89\u001b[0m base_url \u001b[38;5;241m=\u001b[39m  \u001b[38;5;124m'\u001b[39m\u001b[38;5;124mhttps://www.basketball-reference.com\u001b[39m\u001b[38;5;124m'\u001b[39m\n\u001b[0;32m     92\u001b[0m \u001b[38;5;28;01mif\u001b[39;00m table_type \u001b[38;5;129;01min\u001b[39;00m (\u001b[38;5;124m'\u001b[39m\u001b[38;5;124minjuries\u001b[39m\u001b[38;5;124m'\u001b[39m,\u001b[38;5;124m'\u001b[39m\u001b[38;5;124mgame-basic\u001b[39m\u001b[38;5;124m'\u001b[39m):\n\u001b[1;32m---> 93\u001b[0m     \u001b[43mcheck_not_value\u001b[49m\u001b[43m(\u001b[49m\u001b[38;5;124;43m'\u001b[39;49m\u001b[38;5;124;43msuffix\u001b[39;49m\u001b[38;5;124;43m'\u001b[39;49m\u001b[43m,\u001b[49m\u001b[43m \u001b[49m\u001b[43msuffix\u001b[49m\u001b[43m,\u001b[49m\u001b[43m \u001b[49m\u001b[43m[\u001b[49m\u001b[38;5;28;43;01mNone\u001b[39;49;00m\u001b[43m]\u001b[49m\u001b[43m)\u001b[49m\n\u001b[0;32m     94\u001b[0m     url\u001b[38;5;241m=\u001b[39m \u001b[38;5;124mf\u001b[39m\u001b[38;5;124m'\u001b[39m\u001b[38;5;132;01m{\u001b[39;00mbase_url\u001b[38;5;132;01m}\u001b[39;00m\u001b[38;5;132;01m{\u001b[39;00msuffix\u001b[38;5;132;01m}\u001b[39;00m\u001b[38;5;124m'\u001b[39m\n\u001b[0;32m     95\u001b[0m \u001b[38;5;28;01melif\u001b[39;00m table_type\u001b[38;5;241m==\u001b[39m\u001b[38;5;124m'\u001b[39m\u001b[38;5;124mroster\u001b[39m\u001b[38;5;124m'\u001b[39m:\n",
      "File \u001b[1;32m~\\Documents\\GitHub\\bball_scraper\\bball_scraper\\checks.py:19\u001b[0m, in \u001b[0;36mcheck_not_value\u001b[1;34m(value_name, value, invalid_values)\u001b[0m\n\u001b[0;32m     13\u001b[0m \u001b[38;5;28;01mdef\u001b[39;00m \u001b[38;5;21mcheck_not_value\u001b[39m(\n\u001b[0;32m     14\u001b[0m     value_name: \u001b[38;5;28mstr\u001b[39m,\n\u001b[0;32m     15\u001b[0m     value,\n\u001b[0;32m     16\u001b[0m     invalid_values: List\n\u001b[0;32m     17\u001b[0m ):\n\u001b[0;32m     18\u001b[0m     \u001b[38;5;28;01mif\u001b[39;00m value \u001b[38;5;129;01min\u001b[39;00m invalid_values:\n\u001b[1;32m---> 19\u001b[0m         \u001b[38;5;28;01mraise\u001b[39;00m \u001b[38;5;167;01mValueError\u001b[39;00m(\u001b[38;5;124mf\u001b[39m\u001b[38;5;124m\"\u001b[39m\u001b[38;5;132;01m{\u001b[39;00mvalue_name\u001b[38;5;132;01m}\u001b[39;00m\u001b[38;5;124m cannot be \u001b[39m\u001b[38;5;132;01m{\u001b[39;00minvalid_values\u001b[38;5;132;01m}\u001b[39;00m\u001b[38;5;124m\"\u001b[39m )\n\u001b[0;32m     20\u001b[0m     \u001b[38;5;28;01melse\u001b[39;00m:\n\u001b[0;32m     21\u001b[0m         \u001b[38;5;28;01mpass\u001b[39;00m\n",
      "\u001b[1;31mValueError\u001b[0m: suffix cannot be [None]"
     ]
    }
   ],
   "source": [
    "setup_tables= setup()\n",
    "setup_tables.run_update()"
   ]
  },
  {
   "cell_type": "code",
   "execution_count": null,
   "id": "1169e4c1-3934-44a0-a269-755eb9b8f03f",
   "metadata": {},
   "outputs": [],
   "source": []
  },
  {
   "cell_type": "code",
   "execution_count": null,
   "id": "444d3647-ee57-4187-89a2-bd3122ce383f",
   "metadata": {},
   "outputs": [],
   "source": []
  }
 ],
 "metadata": {
  "kernelspec": {
   "display_name": "bball_scraper_env",
   "language": "python",
   "name": "bball_scraper_env"
  },
  "language_info": {
   "codemirror_mode": {
    "name": "ipython",
    "version": 3
   },
   "file_extension": ".py",
   "mimetype": "text/x-python",
   "name": "python",
   "nbconvert_exporter": "python",
   "pygments_lexer": "ipython3",
   "version": "3.11.5"
  }
 },
 "nbformat": 4,
 "nbformat_minor": 5
}
