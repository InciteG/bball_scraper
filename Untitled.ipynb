{
 "cells": [
  {
   "cell_type": "code",
   "execution_count": 1,
   "id": "62465911-50cc-4a1f-a338-d38923413287",
   "metadata": {
    "tags": []
   },
   "outputs": [],
   "source": [
    "from setup_db import setup"
   ]
  },
  {
   "cell_type": "code",
   "execution_count": 2,
   "id": "569e757c-247e-4dfa-b26d-436b29080bb2",
   "metadata": {
    "tags": []
   },
   "outputs": [
    {
     "data": {
      "text/html": [
       "<pre style=\"white-space:pre;overflow-x:auto;line-height:normal;font-family:Menlo,'DejaVu Sans Mono',consolas,'Courier New',monospace\">02:37:32.191 | <span style=\"color: #008080; text-decoration-color: #008080\">INFO</span>    | setup_db - Starting setup with table_type: injuries, run_type: update\n",
       "</pre>\n"
      ],
      "text/plain": [
       "02:37:32.191 | \u001b[36mINFO\u001b[0m    | setup_db - Starting setup with table_type: injuries, run_type: update\n"
      ]
     },
     "metadata": {},
     "output_type": "display_data"
    },
    {
     "data": {
      "text/html": [
       "<pre style=\"white-space:pre;overflow-x:auto;line-height:normal;font-family:Menlo,'DejaVu Sans Mono',consolas,'Courier New',monospace\">02:37:35.538 | <span style=\"color: #008080; text-decoration-color: #008080\">INFO</span>    | bball_scraper.main - <span style=\"color: #008000; text-decoration-color: #008000\">Completed</span> data pull with table_type: injuries, team_code: None, month: None, suffix=/friv/injuries.fcgi\n",
       "</pre>\n"
      ],
      "text/plain": [
       "02:37:35.538 | \u001b[36mINFO\u001b[0m    | bball_scraper.main - \u001b[32mCompleted\u001b[0m data pull with table_type: injuries, team_code: None, month: None, suffix=/friv/injuries.fcgi\n"
      ]
     },
     "metadata": {},
     "output_type": "display_data"
    },
    {
     "data": {
      "text/html": [
       "<pre style=\"white-space:pre;overflow-x:auto;line-height:normal;font-family:Menlo,'DejaVu Sans Mono',consolas,'Courier New',monospace\">02:37:35.544 | <span style=\"color: #008080; text-decoration-color: #008080\">INFO</span>    | setup_db - Saved data from injuries to injuries.csv\n",
       "</pre>\n"
      ],
      "text/plain": [
       "02:37:35.544 | \u001b[36mINFO\u001b[0m    | setup_db - Saved data from injuries to injuries.csv\n"
      ]
     },
     "metadata": {},
     "output_type": "display_data"
    },
    {
     "data": {
      "text/html": [
       "<pre style=\"white-space:pre;overflow-x:auto;line-height:normal;font-family:Menlo,'DejaVu Sans Mono',consolas,'Courier New',monospace\">02:37:35.545 | <span style=\"color: #008080; text-decoration-color: #008080\">INFO</span>    | setup_db - Starting setup with table_type: roster, run_type: update\n",
       "</pre>\n"
      ],
      "text/plain": [
       "02:37:35.545 | \u001b[36mINFO\u001b[0m    | setup_db - Starting setup with table_type: roster, run_type: update\n"
      ]
     },
     "metadata": {},
     "output_type": "display_data"
    },
    {
     "ename": "ValueError",
     "evalue": "season must be one of ['2014', '2015', '2016', '2017', '2018', '2019', '2020', '2021', '2022', '2023', '2024']",
     "output_type": "error",
     "traceback": [
      "\u001b[1;31m---------------------------------------------------------------------------\u001b[0m",
      "\u001b[1;31mValueError\u001b[0m                                Traceback (most recent call last)",
      "Cell \u001b[1;32mIn[2], line 2\u001b[0m\n\u001b[0;32m      1\u001b[0m setup_tables\u001b[38;5;241m=\u001b[39m setup()\n\u001b[1;32m----> 2\u001b[0m \u001b[43msetup_tables\u001b[49m\u001b[38;5;241;43m.\u001b[39;49m\u001b[43mrun_update\u001b[49m\u001b[43m(\u001b[49m\u001b[43m)\u001b[49m\n",
      "File \u001b[1;32m~\\Documents\\GitHub\\bball_scraper\\setup_db.py:34\u001b[0m, in \u001b[0;36msetup.run_update\u001b[1;34m(self)\u001b[0m\n\u001b[0;32m     32\u001b[0m \u001b[38;5;28;01mdef\u001b[39;00m \u001b[38;5;21mrun_update\u001b[39m(\u001b[38;5;28mself\u001b[39m):\n\u001b[0;32m     33\u001b[0m     \u001b[38;5;28mself\u001b[39m\u001b[38;5;241m.\u001b[39msetup_tables(table_type\u001b[38;5;241m=\u001b[39m\u001b[38;5;124m'\u001b[39m\u001b[38;5;124minjuries\u001b[39m\u001b[38;5;124m'\u001b[39m, run_type\u001b[38;5;241m=\u001b[39m\u001b[38;5;124m'\u001b[39m\u001b[38;5;124mupdate\u001b[39m\u001b[38;5;124m'\u001b[39m)\n\u001b[1;32m---> 34\u001b[0m     \u001b[38;5;28;43mself\u001b[39;49m\u001b[38;5;241;43m.\u001b[39;49m\u001b[43msetup_tables\u001b[49m\u001b[43m(\u001b[49m\u001b[43mtable_type\u001b[49m\u001b[38;5;241;43m=\u001b[39;49m\u001b[38;5;124;43m'\u001b[39;49m\u001b[38;5;124;43mroster\u001b[39;49m\u001b[38;5;124;43m'\u001b[39;49m\u001b[43m,\u001b[49m\u001b[43m \u001b[49m\u001b[43mrun_type\u001b[49m\u001b[38;5;241;43m=\u001b[39;49m\u001b[38;5;124;43m'\u001b[39;49m\u001b[38;5;124;43mupdate\u001b[39;49m\u001b[38;5;124;43m'\u001b[39;49m\u001b[43m)\u001b[49m\n\u001b[0;32m     35\u001b[0m     schedule_df \u001b[38;5;241m=\u001b[39m \u001b[38;5;28mself\u001b[39m\u001b[38;5;241m.\u001b[39msetup_tables(table_type\u001b[38;5;241m=\u001b[39m\u001b[38;5;124m'\u001b[39m\u001b[38;5;124mschedule\u001b[39m\u001b[38;5;124m'\u001b[39m, run_type\u001b[38;5;241m=\u001b[39m\u001b[38;5;124m'\u001b[39m\u001b[38;5;124mupdate\u001b[39m\u001b[38;5;124m'\u001b[39m)\n\u001b[0;32m     36\u001b[0m     \u001b[38;5;28mself\u001b[39m\u001b[38;5;241m.\u001b[39m__boxscore_url_list \u001b[38;5;241m=\u001b[39m schedule_df\u001b[38;5;241m.\u001b[39mboxscore_url\u001b[38;5;241m.\u001b[39mvalues\n",
      "File \u001b[1;32m~\\Documents\\GitHub\\bball_scraper\\setup_db.py:76\u001b[0m, in \u001b[0;36msetup.setup_tables\u001b[1;34m(self, table_type, run_type)\u001b[0m\n\u001b[0;32m     74\u001b[0m     \u001b[38;5;28;01mfor\u001b[39;00m season \u001b[38;5;129;01min\u001b[39;00m season_list:\n\u001b[0;32m     75\u001b[0m         \u001b[38;5;28;01mfor\u001b[39;00m team \u001b[38;5;129;01min\u001b[39;00m team_codes\u001b[38;5;241m.\u001b[39mkeys():\n\u001b[1;32m---> 76\u001b[0m             df \u001b[38;5;241m=\u001b[39m \u001b[43mpull_data\u001b[49m\u001b[43m(\u001b[49m\u001b[43mtable_type\u001b[49m\u001b[38;5;241;43m=\u001b[39;49m\u001b[43mtable_type\u001b[49m\u001b[43m,\u001b[49m\u001b[43m \u001b[49m\u001b[43mteam_code\u001b[49m\u001b[38;5;241;43m=\u001b[39;49m\u001b[43mteam\u001b[49m\u001b[43m,\u001b[49m\u001b[43mseason\u001b[49m\u001b[38;5;241;43m=\u001b[39;49m\u001b[43mseason\u001b[49m\u001b[43m)\u001b[49m\n\u001b[0;32m     77\u001b[0m             outer_df_list\u001b[38;5;241m.\u001b[39mappend(df)\n\u001b[0;32m     78\u001b[0m \u001b[38;5;28;01melif\u001b[39;00m table_type \u001b[38;5;241m==\u001b[39m \u001b[38;5;124m'\u001b[39m\u001b[38;5;124mschedule\u001b[39m\u001b[38;5;124m'\u001b[39m:\n",
      "File \u001b[1;32m~\\Documents\\GitHub\\bball_scraper\\bball_scraper\\main.py:46\u001b[0m, in \u001b[0;36mpull_data\u001b[1;34m(table_type, team_code, season, month, suffix)\u001b[0m\n\u001b[0;32m     15\u001b[0m \u001b[38;5;28;01mdef\u001b[39;00m \u001b[38;5;21mpull_data\u001b[39m( \n\u001b[0;32m     16\u001b[0m     table_type: \u001b[38;5;28mstr\u001b[39m, \n\u001b[0;32m     17\u001b[0m     team_code: Optional[\u001b[38;5;28mstr\u001b[39m] \u001b[38;5;241m=\u001b[39m \u001b[38;5;28;01mNone\u001b[39;00m,\n\u001b[1;32m   (...)\u001b[0m\n\u001b[0;32m     20\u001b[0m     suffix: Optional[\u001b[38;5;28mstr\u001b[39m] \u001b[38;5;241m=\u001b[39m \u001b[38;5;28;01mNone\u001b[39;00m\n\u001b[0;32m     21\u001b[0m ):\n\u001b[0;32m     22\u001b[0m \u001b[38;5;250m    \u001b[39m\u001b[38;5;124;03m\"\"\" Function that encompasses:\u001b[39;00m\n\u001b[0;32m     23\u001b[0m \u001b[38;5;124;03m    1. Querying the webpage\u001b[39;00m\n\u001b[0;32m     24\u001b[0m \u001b[38;5;124;03m    2. Reading tables from webpage\u001b[39;00m\n\u001b[1;32m   (...)\u001b[0m\n\u001b[0;32m     43\u001b[0m \u001b[38;5;124;03m    Dataframe object with data based on argument specifications.\u001b[39;00m\n\u001b[0;32m     44\u001b[0m \u001b[38;5;124;03m    \"\"\"\u001b[39;00m\n\u001b[1;32m---> 46\u001b[0m     response \u001b[38;5;241m=\u001b[39m \u001b[43mget_response\u001b[49m\u001b[43m(\u001b[49m\u001b[43mtable_type\u001b[49m\u001b[38;5;241;43m=\u001b[39;49m\u001b[43mtable_type\u001b[49m\u001b[43m,\u001b[49m\u001b[43mteam_code\u001b[49m\u001b[38;5;241;43m=\u001b[39;49m\u001b[43mteam_code\u001b[49m\u001b[43m,\u001b[49m\u001b[43mseason\u001b[49m\u001b[38;5;241;43m=\u001b[39;49m\u001b[43mseason\u001b[49m\u001b[43m,\u001b[49m\u001b[43mmonth\u001b[49m\u001b[38;5;241;43m=\u001b[39;49m\u001b[43mmonth\u001b[49m\u001b[43m,\u001b[49m\u001b[43msuffix\u001b[49m\u001b[38;5;241;43m=\u001b[39;49m\u001b[43msuffix\u001b[49m\u001b[43m)\u001b[49m\n\u001b[0;32m     47\u001b[0m     soup \u001b[38;5;241m=\u001b[39m bs(response\u001b[38;5;241m.\u001b[39mcontent, \u001b[38;5;124m'\u001b[39m\u001b[38;5;124mhtml.parser\u001b[39m\u001b[38;5;124m'\u001b[39m)\n\u001b[0;32m     48\u001b[0m     df\u001b[38;5;241m=\u001b[39m parse_tables(soup,table_type)\n",
      "File \u001b[1;32m~\\Documents\\GitHub\\bball_scraper\\bball_scraper\\main.py:97\u001b[0m, in \u001b[0;36mget_response\u001b[1;34m(table_type, team_code, season, month, suffix)\u001b[0m\n\u001b[0;32m     95\u001b[0m \u001b[38;5;28;01melif\u001b[39;00m table_type\u001b[38;5;241m==\u001b[39m\u001b[38;5;124m'\u001b[39m\u001b[38;5;124mroster\u001b[39m\u001b[38;5;124m'\u001b[39m:\n\u001b[0;32m     96\u001b[0m     check_value(\u001b[38;5;124m'\u001b[39m\u001b[38;5;124mteam_code\u001b[39m\u001b[38;5;124m'\u001b[39m,team_code,\u001b[38;5;28mlist\u001b[39m(all_team_codes\u001b[38;5;241m.\u001b[39mkeys()))\n\u001b[1;32m---> 97\u001b[0m     \u001b[43mcheck_value\u001b[49m\u001b[43m(\u001b[49m\u001b[38;5;124;43m'\u001b[39;49m\u001b[38;5;124;43mseason\u001b[39;49m\u001b[38;5;124;43m'\u001b[39;49m\u001b[43m,\u001b[49m\u001b[43mseason\u001b[49m\u001b[43m,\u001b[49m\u001b[43mall_seasons\u001b[49m\u001b[43m)\u001b[49m        \n\u001b[0;32m     98\u001b[0m     url \u001b[38;5;241m=\u001b[39m \u001b[38;5;124mf\u001b[39m\u001b[38;5;124m'\u001b[39m\u001b[38;5;132;01m{\u001b[39;00mbase_url\u001b[38;5;132;01m}\u001b[39;00m\u001b[38;5;124m/teams/\u001b[39m\u001b[38;5;132;01m{\u001b[39;00mteam_code\u001b[38;5;132;01m}\u001b[39;00m\u001b[38;5;124m/\u001b[39m\u001b[38;5;132;01m{\u001b[39;00mseason\u001b[38;5;132;01m}\u001b[39;00m\u001b[38;5;124m.html\u001b[39m\u001b[38;5;124m'\u001b[39m\n\u001b[0;32m     99\u001b[0m \u001b[38;5;28;01melif\u001b[39;00m table_type\u001b[38;5;241m==\u001b[39m\u001b[38;5;124m'\u001b[39m\u001b[38;5;124mschedule\u001b[39m\u001b[38;5;124m'\u001b[39m:\n",
      "File \u001b[1;32m~\\Documents\\GitHub\\bball_scraper\\bball_scraper\\checks.py:9\u001b[0m, in \u001b[0;36mcheck_value\u001b[1;34m(value_name, value, valid_values)\u001b[0m\n\u001b[0;32m      3\u001b[0m \u001b[38;5;28;01mdef\u001b[39;00m \u001b[38;5;21mcheck_value\u001b[39m(\n\u001b[0;32m      4\u001b[0m     value_name: \u001b[38;5;28mstr\u001b[39m,\n\u001b[0;32m      5\u001b[0m     value,\n\u001b[0;32m      6\u001b[0m     valid_values: List\n\u001b[0;32m      7\u001b[0m ):\n\u001b[0;32m      8\u001b[0m     \u001b[38;5;28;01mif\u001b[39;00m value \u001b[38;5;129;01mnot\u001b[39;00m \u001b[38;5;129;01min\u001b[39;00m valid_values:\n\u001b[1;32m----> 9\u001b[0m         \u001b[38;5;28;01mraise\u001b[39;00m \u001b[38;5;167;01mValueError\u001b[39;00m(\u001b[38;5;124mf\u001b[39m\u001b[38;5;124m\"\u001b[39m\u001b[38;5;132;01m{\u001b[39;00mvalue_name\u001b[38;5;132;01m}\u001b[39;00m\u001b[38;5;124m must be one of \u001b[39m\u001b[38;5;132;01m{\u001b[39;00mvalid_values\u001b[38;5;132;01m}\u001b[39;00m\u001b[38;5;124m\"\u001b[39m )\n\u001b[0;32m     10\u001b[0m     \u001b[38;5;28;01melse\u001b[39;00m:\n\u001b[0;32m     11\u001b[0m         \u001b[38;5;28;01mpass\u001b[39;00m\n",
      "\u001b[1;31mValueError\u001b[0m: season must be one of ['2014', '2015', '2016', '2017', '2018', '2019', '2020', '2021', '2022', '2023', '2024']"
     ]
    }
   ],
   "source": [
    "setup_tables= setup()\n",
    "setup_tables.run_update()"
   ]
  },
  {
   "cell_type": "code",
   "execution_count": null,
   "id": "1169e4c1-3934-44a0-a269-755eb9b8f03f",
   "metadata": {},
   "outputs": [],
   "source": []
  },
  {
   "cell_type": "code",
   "execution_count": null,
   "id": "444d3647-ee57-4187-89a2-bd3122ce383f",
   "metadata": {},
   "outputs": [],
   "source": []
  }
 ],
 "metadata": {
  "kernelspec": {
   "display_name": "bball_scraper_env",
   "language": "python",
   "name": "bball_scraper_env"
  },
  "language_info": {
   "codemirror_mode": {
    "name": "ipython",
    "version": 3
   },
   "file_extension": ".py",
   "mimetype": "text/x-python",
   "name": "python",
   "nbconvert_exporter": "python",
   "pygments_lexer": "ipython3",
   "version": "3.11.5"
  }
 },
 "nbformat": 4,
 "nbformat_minor": 5
}
